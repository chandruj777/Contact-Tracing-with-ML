{
 "cells": [
  {
   "cell_type": "markdown",
   "metadata": {
    "papermill": {
     "duration": 0.012196,
     "end_time": "2021-03-02T05:12:21.345615",
     "exception": false,
     "start_time": "2021-03-02T05:12:21.333419",
     "status": "completed"
    },
    "tags": []
   },
   "source": [
    "Contact tracing is a process used by public health ministries to help stop the spread of infectious disease such as COVID-19."
   ]
  },
  {
   "cell_type": "code",
   "execution_count": 2,
   "metadata": {
    "execution": {
     "iopub.execute_input": "2021-03-02T05:12:21.372465Z",
     "iopub.status.busy": "2021-03-02T05:12:21.371492Z",
     "iopub.status.idle": "2021-03-02T05:12:23.135732Z",
     "shell.execute_reply": "2021-03-02T05:12:23.134915Z"
    },
    "papermill": {
     "duration": 1.778778,
     "end_time": "2021-03-02T05:12:23.135981",
     "exception": false,
     "start_time": "2021-03-02T05:12:21.357203",
     "status": "completed"
    },
    "scrolled": false,
    "tags": []
   },
   "outputs": [
    {
     "data": {
      "text/html": [
       "<div>\n",
       "<style scoped>\n",
       "    .dataframe tbody tr th:only-of-type {\n",
       "        vertical-align: middle;\n",
       "    }\n",
       "\n",
       "    .dataframe tbody tr th {\n",
       "        vertical-align: top;\n",
       "    }\n",
       "\n",
       "    .dataframe thead th {\n",
       "        text-align: right;\n",
       "    }\n",
       "</style>\n",
       "<table border=\"1\" class=\"dataframe\">\n",
       "  <thead>\n",
       "    <tr style=\"text-align: right;\">\n",
       "      <th></th>\n",
       "      <th>id</th>\n",
       "      <th>timestamp</th>\n",
       "      <th>latitude</th>\n",
       "      <th>longitude</th>\n",
       "    </tr>\n",
       "  </thead>\n",
       "  <tbody>\n",
       "    <tr>\n",
       "      <th>95</th>\n",
       "      <td>Judy</td>\n",
       "      <td>2020-07-04 16:35:30</td>\n",
       "      <td>13.176481</td>\n",
       "      <td>77.619396</td>\n",
       "    </tr>\n",
       "    <tr>\n",
       "      <th>96</th>\n",
       "      <td>Bob</td>\n",
       "      <td>2020-07-04 15:35:30</td>\n",
       "      <td>13.172339</td>\n",
       "      <td>77.662080</td>\n",
       "    </tr>\n",
       "    <tr>\n",
       "      <th>97</th>\n",
       "      <td>Grace</td>\n",
       "      <td>2020-07-04 23:35:30</td>\n",
       "      <td>13.115079</td>\n",
       "      <td>77.697991</td>\n",
       "    </tr>\n",
       "    <tr>\n",
       "      <th>98</th>\n",
       "      <td>Bob</td>\n",
       "      <td>2020-07-04 19:35:30</td>\n",
       "      <td>13.180751</td>\n",
       "      <td>77.704404</td>\n",
       "    </tr>\n",
       "    <tr>\n",
       "      <th>99</th>\n",
       "      <td>Alice</td>\n",
       "      <td>2020-07-04 19:35:30</td>\n",
       "      <td>13.206235</td>\n",
       "      <td>77.595245</td>\n",
       "    </tr>\n",
       "  </tbody>\n",
       "</table>\n",
       "</div>"
      ],
      "text/plain": [
       "       id           timestamp   latitude  longitude\n",
       "95   Judy 2020-07-04 16:35:30  13.176481  77.619396\n",
       "96    Bob 2020-07-04 15:35:30  13.172339  77.662080\n",
       "97  Grace 2020-07-04 23:35:30  13.115079  77.697991\n",
       "98    Bob 2020-07-04 19:35:30  13.180751  77.704404\n",
       "99  Alice 2020-07-04 19:35:30  13.206235  77.595245"
      ]
     },
     "execution_count": 2,
     "metadata": {},
     "output_type": "execute_result"
    }
   ],
   "source": [
    "import numpy as np\n",
    "import pandas as pd\n",
    "import matplotlib.pyplot as plt\n",
    "import seaborn as sns\n",
    "%matplotlib inline\n",
    "import datetime as dt\n",
    "from sklearn.cluster import DBSCAN\n",
    "df = pd.read_json('C:/Users/USER/Downloads/livedata.json')\n",
    "df.tail()"
   ]
  },
  {
   "cell_type": "code",
   "execution_count": null,
   "metadata": {},
   "outputs": [],
   "source": [
    "#positions of every person every time stamp"
   ]
  },
  {
   "cell_type": "code",
   "execution_count": 67,
   "metadata": {
    "scrolled": true
   },
   "outputs": [
    {
     "data": {
      "text/html": [
       "<div>\n",
       "<style scoped>\n",
       "    .dataframe tbody tr th:only-of-type {\n",
       "        vertical-align: middle;\n",
       "    }\n",
       "\n",
       "    .dataframe tbody tr th {\n",
       "        vertical-align: top;\n",
       "    }\n",
       "\n",
       "    .dataframe thead th {\n",
       "        text-align: right;\n",
       "    }\n",
       "</style>\n",
       "<table border=\"1\" class=\"dataframe\">\n",
       "  <thead>\n",
       "    <tr style=\"text-align: right;\">\n",
       "      <th></th>\n",
       "      <th>latitude</th>\n",
       "      <th>longitude</th>\n",
       "    </tr>\n",
       "  </thead>\n",
       "  <tbody>\n",
       "    <tr>\n",
       "      <th>count</th>\n",
       "      <td>100.000000</td>\n",
       "      <td>100.000000</td>\n",
       "    </tr>\n",
       "    <tr>\n",
       "      <th>mean</th>\n",
       "      <td>13.134709</td>\n",
       "      <td>77.639229</td>\n",
       "    </tr>\n",
       "    <tr>\n",
       "      <th>std</th>\n",
       "      <td>0.069591</td>\n",
       "      <td>0.046132</td>\n",
       "    </tr>\n",
       "    <tr>\n",
       "      <th>min</th>\n",
       "      <td>13.010284</td>\n",
       "      <td>77.553381</td>\n",
       "    </tr>\n",
       "    <tr>\n",
       "      <th>25%</th>\n",
       "      <td>13.081266</td>\n",
       "      <td>77.596577</td>\n",
       "    </tr>\n",
       "    <tr>\n",
       "      <th>50%</th>\n",
       "      <td>13.133868</td>\n",
       "      <td>77.646240</td>\n",
       "    </tr>\n",
       "    <tr>\n",
       "      <th>75%</th>\n",
       "      <td>13.195195</td>\n",
       "      <td>77.681645</td>\n",
       "    </tr>\n",
       "    <tr>\n",
       "      <th>max</th>\n",
       "      <td>13.249645</td>\n",
       "      <td>77.705454</td>\n",
       "    </tr>\n",
       "  </tbody>\n",
       "</table>\n",
       "</div>"
      ],
      "text/plain": [
       "         latitude   longitude\n",
       "count  100.000000  100.000000\n",
       "mean    13.134709   77.639229\n",
       "std      0.069591    0.046132\n",
       "min     13.010284   77.553381\n",
       "25%     13.081266   77.596577\n",
       "50%     13.133868   77.646240\n",
       "75%     13.195195   77.681645\n",
       "max     13.249645   77.705454"
      ]
     },
     "execution_count": 67,
     "metadata": {},
     "output_type": "execute_result"
    }
   ],
   "source": [
    "df.describe()"
   ]
  },
  {
   "cell_type": "code",
   "execution_count": 2,
   "metadata": {
    "scrolled": true
   },
   "outputs": [
    {
     "data": {
      "text/plain": [
       "(100, 4)"
      ]
     },
     "execution_count": 2,
     "metadata": {},
     "output_type": "execute_result"
    }
   ],
   "source": [
    "df.shape"
   ]
  },
  {
   "cell_type": "code",
   "execution_count": 2,
   "metadata": {},
   "outputs": [
    {
     "data": {
      "text/plain": [
       "Index(['id', 'timestamp', 'latitude', 'longitude'], dtype='object')"
      ]
     },
     "execution_count": 2,
     "metadata": {},
     "output_type": "execute_result"
    }
   ],
   "source": [
    "df.columns"
   ]
  },
  {
   "cell_type": "code",
   "execution_count": 17,
   "metadata": {
    "scrolled": true
   },
   "outputs": [
    {
     "data": {
      "text/plain": [
       "array(['David', 'Frank', 'Carol', 'Ivan', 'Erin', 'Bob', 'Grace', 'Alice',\n",
       "       'Judy', 'Heidi'], dtype=object)"
      ]
     },
     "execution_count": 17,
     "metadata": {},
     "output_type": "execute_result"
    }
   ],
   "source": [
    "df['id'].unique()"
   ]
  },
  {
   "cell_type": "code",
   "execution_count": 23,
   "metadata": {},
   "outputs": [],
   "source": [
    "##### scaling\n",
    "\n",
    "from sklearn.preprocessing import MinMaxScaler\n",
    "sc = MinMaxScaler()"
   ]
  },
  {
   "cell_type": "code",
   "execution_count": 24,
   "metadata": {},
   "outputs": [],
   "source": [
    "#df.columns there are 4 cols like id,timestamp,latitude,longitude\n"
   ]
  },
  {
   "cell_type": "code",
   "execution_count": 25,
   "metadata": {
    "execution": {
     "iopub.execute_input": "2021-03-02T05:12:23.167560Z",
     "iopub.status.busy": "2021-03-02T05:12:23.166710Z",
     "iopub.status.idle": "2021-03-02T05:12:23.172140Z",
     "shell.execute_reply": "2021-03-02T05:12:23.171481Z"
    },
    "papermill": {
     "duration": 0.023931,
     "end_time": "2021-03-02T05:12:23.172282",
     "exception": false,
     "start_time": "2021-03-02T05:12:23.148351",
     "status": "completed"
    },
    "tags": []
   },
   "outputs": [
    {
     "data": {
      "text/plain": [
       "(77.5533811, 77.7054541, 13.0102837, 13.2496455)"
      ]
     },
     "execution_count": 25,
     "metadata": {},
     "output_type": "execute_result"
    }
   ],
   "source": [
    "BBox = (df.longitude.min(),df.longitude.max(),df.latitude.min(), df.latitude.max())\n",
    "BBox\n",
    "#i find the minimum longitude value,max longitude value,min,max value"
   ]
  },
  {
   "cell_type": "code",
   "execution_count": 6,
   "metadata": {
    "execution": {
     "iopub.execute_input": "2021-03-02T05:12:23.203928Z",
     "iopub.status.busy": "2021-03-02T05:12:23.203233Z",
     "iopub.status.idle": "2021-03-02T05:12:23.665729Z",
     "shell.execute_reply": "2021-03-02T05:12:23.666257Z"
    },
    "papermill": {
     "duration": 0.481683,
     "end_time": "2021-03-02T05:12:23.666432",
     "exception": false,
     "start_time": "2021-03-02T05:12:23.184749",
     "status": "completed"
    },
    "tags": []
   },
   "outputs": [],
   "source": [
    "# banglore_m = plt.imread('../input/bangalore-map/map.png')\n",
    "# fig, ax = plt.subplots(figsize = (10,10))\n",
    "# ax.scatter(df.longitude, df.latitude)\n",
    "# ax.set_title('Plotting Spatial Data on Map')\n",
    "# ax.set_xlim(BBox[0],BBox[1])\n",
    "# ax.set_ylim(BBox[2],BBox[3])\n",
    "# ax.imshow(banglore_m, extent = BBox, aspect= 'equal')\n",
    "# plt.show()#take pic from kag"
   ]
  },
  {
   "cell_type": "code",
   "execution_count": 89,
   "metadata": {
    "execution": {
     "iopub.execute_input": "2021-03-02T05:12:23.746088Z",
     "iopub.status.busy": "2021-03-02T05:12:23.743739Z",
     "iopub.status.idle": "2021-03-02T05:12:24.210150Z",
     "shell.execute_reply": "2021-03-02T05:12:24.209453Z"
    },
    "papermill": {
     "duration": 0.520426,
     "end_time": "2021-03-02T05:12:24.210295",
     "exception": false,
     "start_time": "2021-03-02T05:12:23.689869",
     "status": "completed"
    },
    "scrolled": true,
    "tags": []
   },
   "outputs": [
    {
     "data": {
      "image/png": "[encoded data removed]",
      "text/plain": [
       "<Figure size 720x720 with 1 Axes>"
      ]
     },
     "metadata": {
      "needs_background": "light"
     },
     "output_type": "display_data"
    }
   ],
   "source": [
    "plt.figure(figsize=(10,10))\n",
    "sns.scatterplot(x=\"latitude\",y=\"longitude\",data=df,hue=\"id\")\n",
    "plt.legend(bbox_to_anchor= [1, 0.8])\n",
    "plt.grid()"
   ]
  },
  {
   "cell_type": "code",
   "execution_count": 85,
   "metadata": {
    "scrolled": true
   },
   "outputs": [
    {
     "data": {
      "text/plain": [
       "<seaborn.axisgrid.FacetGrid at 0x21481d47700>"
      ]
     },
     "execution_count": 85,
     "metadata": {},
     "output_type": "execute_result"
    },
    {
     "data": {
      "image/png": "[encoded data removed]",
      "text/plain": [
       "<Figure size 360x360 with 1 Axes>"
      ]
     },
     "metadata": {
      "needs_background": "light"
     },
     "output_type": "display_data"
    }
   ],
   "source": [
    "sns.displot(data=df,x='longitude')"
   ]
  },
  {
   "cell_type": "code",
   "execution_count": 86,
   "metadata": {
    "scrolled": true
   },
   "outputs": [],
   "source": [
    "#sns.jointplot(x='latitude', y='longitude', data=df, color='red',kind='kde')"
   ]
  },
  {
   "cell_type": "code",
   "execution_count": 29,
   "metadata": {
    "scrolled": true
   },
   "outputs": [
    {
     "data": {
      "image/png": "[encoded data removed]",
      "text/plain": [
       "<Figure size 432x288 with 1 Axes>"
      ]
     },
     "metadata": {
      "needs_background": "light"
     },
     "output_type": "display_data"
    }
   ],
   "source": [
    "sns.boxplot(x='id', y= 'latitude', data = df, palette = 'coolwarm')\n",
    "plt.tight_layout()"
   ]
  },
  {
   "cell_type": "code",
   "execution_count": 68,
   "metadata": {},
   "outputs": [
    {
     "data": {
      "image/png": "[encoded data removed]",
      "text/plain": [
       "<Figure size 432x288 with 1 Axes>"
      ]
     },
     "metadata": {
      "needs_background": "light"
     },
     "output_type": "display_data"
    }
   ],
   "source": [
    "sns.boxplot(x='id',y='longitude',data=df, palette='coolwarm')\n",
    "plt.tight_layout()"
   ]
  },
  {
   "cell_type": "code",
   "execution_count": null,
   "metadata": {},
   "outputs": [],
   "source": []
  },
  {
   "cell_type": "code",
   "execution_count": 69,
   "metadata": {
    "execution": {
     "iopub.execute_input": "2021-03-02T05:12:24.271843Z",
     "iopub.status.busy": "2021-03-02T05:12:24.270720Z",
     "iopub.status.idle": "2021-03-02T05:12:24.275853Z",
     "shell.execute_reply": "2021-03-02T05:12:24.275217Z"
    },
    "papermill": {
     "duration": 0.041701,
     "end_time": "2021-03-02T05:12:24.275996",
     "exception": false,
     "start_time": "2021-03-02T05:12:24.234295",
     "status": "completed"
    },
    "tags": []
   },
   "outputs": [
    {
     "data": {
      "text/html": [
       "<div>\n",
       "<style scoped>\n",
       "    .dataframe tbody tr th:only-of-type {\n",
       "        vertical-align: middle;\n",
       "    }\n",
       "\n",
       "    .dataframe tbody tr th {\n",
       "        vertical-align: top;\n",
       "    }\n",
       "\n",
       "    .dataframe thead th {\n",
       "        text-align: right;\n",
       "    }\n",
       "</style>\n",
       "<table border=\"1\" class=\"dataframe\">\n",
       "  <thead>\n",
       "    <tr style=\"text-align: right;\">\n",
       "      <th></th>\n",
       "      <th>id</th>\n",
       "      <th>timestamp</th>\n",
       "      <th>latitude</th>\n",
       "      <th>longitude</th>\n",
       "    </tr>\n",
       "  </thead>\n",
       "  <tbody>\n",
       "    <tr>\n",
       "      <th>4</th>\n",
       "      <td>Ivan</td>\n",
       "      <td>2020-07-04 22:35:30</td>\n",
       "      <td>13.232095</td>\n",
       "      <td>77.580273</td>\n",
       "    </tr>\n",
       "    <tr>\n",
       "      <th>16</th>\n",
       "      <td>Ivan</td>\n",
       "      <td>2020-07-04 20:35:30</td>\n",
       "      <td>13.241058</td>\n",
       "      <td>77.632370</td>\n",
       "    </tr>\n",
       "    <tr>\n",
       "      <th>18</th>\n",
       "      <td>Ivan</td>\n",
       "      <td>2020-07-04 12:35:30</td>\n",
       "      <td>13.194985</td>\n",
       "      <td>77.594589</td>\n",
       "    </tr>\n",
       "    <tr>\n",
       "      <th>20</th>\n",
       "      <td>Ivan</td>\n",
       "      <td>2020-07-04 21:35:30</td>\n",
       "      <td>13.055701</td>\n",
       "      <td>77.628720</td>\n",
       "    </tr>\n",
       "    <tr>\n",
       "      <th>22</th>\n",
       "      <td>Ivan</td>\n",
       "      <td>2020-07-04 13:35:30</td>\n",
       "      <td>13.168495</td>\n",
       "      <td>77.676476</td>\n",
       "    </tr>\n",
       "  </tbody>\n",
       "</table>\n",
       "</div>"
      ],
      "text/plain": [
       "      id           timestamp   latitude  longitude\n",
       "4   Ivan 2020-07-04 22:35:30  13.232095  77.580273\n",
       "16  Ivan 2020-07-04 20:35:30  13.241058  77.632370\n",
       "18  Ivan 2020-07-04 12:35:30  13.194985  77.594589\n",
       "20  Ivan 2020-07-04 21:35:30  13.055701  77.628720\n",
       "22  Ivan 2020-07-04 13:35:30  13.168495  77.676476"
      ]
     },
     "execution_count": 69,
     "metadata": {},
     "output_type": "execute_result"
    }
   ],
   "source": [
    "a=df[df.id=='Ivan']\n",
    "a.head()"
   ]
  },
  {
   "cell_type": "code",
   "execution_count": 6,
   "metadata": {
    "execution": {
     "iopub.execute_input": "2021-03-02T05:12:24.332479Z",
     "iopub.status.busy": "2021-03-02T05:12:24.331787Z",
     "iopub.status.idle": "2021-03-02T05:12:24.335636Z",
     "shell.execute_reply": "2021-03-02T05:12:24.335097Z"
    },
    "papermill": {
     "duration": 0.034831,
     "end_time": "2021-03-02T05:12:24.335776",
     "exception": false,
     "start_time": "2021-03-02T05:12:24.300945",
     "status": "completed"
    },
    "tags": []
   },
   "outputs": [],
   "source": [
    "# def generateBaseMap(default_location, default_zoom_start=12):\n",
    "#     base_map = folium.Map(location=default_location, control_scale=True, zoom_start=default_zoom_start)\n",
    "#     return base_map\n",
    "# understand the meaning of th code"
   ]
  },
  {
   "cell_type": "code",
   "execution_count": 70,
   "metadata": {
    "execution": {
     "iopub.execute_input": "2021-03-02T05:12:24.401530Z",
     "iopub.status.busy": "2021-03-02T05:12:24.399112Z",
     "iopub.status.idle": "2021-03-02T05:12:24.406632Z",
     "shell.execute_reply": "2021-03-02T05:12:24.405564Z"
    },
    "papermill": {
     "duration": 0.046591,
     "end_time": "2021-03-02T05:12:24.406860",
     "exception": false,
     "start_time": "2021-03-02T05:12:24.360269",
     "status": "completed"
    },
    "tags": []
   },
   "outputs": [
    {
     "name": "stdout",
     "output_type": "stream",
     "text": [
      "<class 'pandas.core.frame.DataFrame'>\n",
      "RangeIndex: 100 entries, 0 to 99\n",
      "Data columns (total 4 columns):\n",
      " #   Column     Non-Null Count  Dtype         \n",
      "---  ------     --------------  -----         \n",
      " 0   id         100 non-null    object        \n",
      " 1   timestamp  100 non-null    datetime64[ns]\n",
      " 2   latitude   100 non-null    float64       \n",
      " 3   longitude  100 non-null    float64       \n",
      "dtypes: datetime64[ns](1), float64(2), object(1)\n",
      "memory usage: 3.2+ KB\n"
     ]
    }
   ],
   "source": [
    "df.info()"
   ]
  },
  {
   "cell_type": "code",
   "execution_count": 71,
   "metadata": {
    "execution": {
     "iopub.execute_input": "2021-03-02T05:12:24.465525Z",
     "iopub.status.busy": "2021-03-02T05:12:24.464851Z",
     "iopub.status.idle": "2021-03-02T05:12:24.468868Z",
     "shell.execute_reply": "2021-03-02T05:12:24.468296Z"
    },
    "papermill": {
     "duration": 0.036657,
     "end_time": "2021-03-02T05:12:24.469011",
     "exception": false,
     "start_time": "2021-03-02T05:12:24.432354",
     "status": "completed"
    },
    "tags": []
   },
   "outputs": [
    {
     "data": {
      "text/plain": [
       "False    100\n",
       "dtype: int64"
      ]
     },
     "execution_count": 71,
     "metadata": {},
     "output_type": "execute_result"
    }
   ],
   "source": [
    "df.duplicated().value_counts()"
   ]
  },
  {
   "cell_type": "code",
   "execution_count": 4,
   "metadata": {
    "execution": {
     "iopub.execute_input": "2021-03-02T05:12:24.525243Z",
     "iopub.status.busy": "2021-03-02T05:12:24.524511Z",
     "iopub.status.idle": "2021-03-02T05:12:24.531308Z",
     "shell.execute_reply": "2021-03-02T05:12:24.530631Z"
    },
    "papermill": {
     "duration": 0.03558,
     "end_time": "2021-03-02T05:12:24.531452",
     "exception": false,
     "start_time": "2021-03-02T05:12:24.495872",
     "status": "completed"
    },
    "tags": []
   },
   "outputs": [],
   "source": [
    "df=df.drop_duplicates()"
   ]
  },
  {
   "cell_type": "code",
   "execution_count": 5,
   "metadata": {
    "execution": {
     "iopub.execute_input": "2021-03-02T05:12:24.586760Z",
     "iopub.status.busy": "2021-03-02T05:12:24.586064Z",
     "iopub.status.idle": "2021-03-02T05:12:24.594770Z",
     "shell.execute_reply": "2021-03-02T05:12:24.594270Z"
    },
    "papermill": {
     "duration": 0.036934,
     "end_time": "2021-03-02T05:12:24.594936",
     "exception": false,
     "start_time": "2021-03-02T05:12:24.558002",
     "status": "completed"
    },
    "scrolled": true,
    "tags": []
   },
   "outputs": [
    {
     "data": {
      "text/plain": [
       "id           0\n",
       "timestamp    0\n",
       "latitude     0\n",
       "longitude    0\n",
       "dtype: int64"
      ]
     },
     "execution_count": 5,
     "metadata": {},
     "output_type": "execute_result"
    }
   ],
   "source": [
    "df.isnull().sum()"
   ]
  },
  {
   "cell_type": "code",
   "execution_count": 6,
   "metadata": {
    "scrolled": true
   },
   "outputs": [
    {
     "data": {
      "text/plain": [
       "id                   object\n",
       "timestamp    datetime64[ns]\n",
       "latitude            float64\n",
       "longitude           float64\n",
       "dtype: object"
      ]
     },
     "execution_count": 6,
     "metadata": {},
     "output_type": "execute_result"
    }
   ],
   "source": [
    "df.dtypes"
   ]
  },
  {
   "cell_type": "code",
   "execution_count": 58,
   "metadata": {},
   "outputs": [
    {
     "data": {
      "text/plain": [
       "Timestamp('2020-07-04 15:35:30')"
      ]
     },
     "execution_count": 58,
     "metadata": {},
     "output_type": "execute_result"
    }
   ],
   "source": [
    "df.timestamp.head()[0]"
   ]
  },
  {
   "cell_type": "code",
   "execution_count": 90,
   "metadata": {
    "execution": {
     "iopub.execute_input": "2021-03-02T05:12:24.663515Z",
     "iopub.status.busy": "2021-03-02T05:12:24.662852Z",
     "iopub.status.idle": "2021-03-02T05:12:24.666297Z",
     "shell.execute_reply": "2021-03-02T05:12:24.666892Z"
    },
    "papermill": {
     "duration": 0.04611,
     "end_time": "2021-03-02T05:12:24.667061",
     "exception": false,
     "start_time": "2021-03-02T05:12:24.620951",
     "status": "completed"
    },
    "scrolled": false,
    "tags": []
   },
   "outputs": [
    {
     "data": {
      "text/html": [
       "<div>\n",
       "<style scoped>\n",
       "    .dataframe tbody tr th:only-of-type {\n",
       "        vertical-align: middle;\n",
       "    }\n",
       "\n",
       "    .dataframe tbody tr th {\n",
       "        vertical-align: top;\n",
       "    }\n",
       "\n",
       "    .dataframe thead th {\n",
       "        text-align: right;\n",
       "    }\n",
       "</style>\n",
       "<table border=\"1\" class=\"dataframe\">\n",
       "  <thead>\n",
       "    <tr style=\"text-align: right;\">\n",
       "      <th></th>\n",
       "      <th>id</th>\n",
       "      <th>timestamp</th>\n",
       "      <th>latitude</th>\n",
       "      <th>longitude</th>\n",
       "      <th>hour</th>\n",
       "    </tr>\n",
       "  </thead>\n",
       "  <tbody>\n",
       "    <tr>\n",
       "      <th>0</th>\n",
       "      <td>David</td>\n",
       "      <td>2020-07-04 15:35:30</td>\n",
       "      <td>13.148953</td>\n",
       "      <td>77.593651</td>\n",
       "      <td>16</td>\n",
       "    </tr>\n",
       "    <tr>\n",
       "      <th>1</th>\n",
       "      <td>David</td>\n",
       "      <td>2020-07-04 16:35:30</td>\n",
       "      <td>13.222397</td>\n",
       "      <td>77.652828</td>\n",
       "      <td>17</td>\n",
       "    </tr>\n",
       "    <tr>\n",
       "      <th>2</th>\n",
       "      <td>Frank</td>\n",
       "      <td>2020-07-04 14:35:30</td>\n",
       "      <td>13.236507</td>\n",
       "      <td>77.693792</td>\n",
       "      <td>15</td>\n",
       "    </tr>\n",
       "    <tr>\n",
       "      <th>3</th>\n",
       "      <td>Carol</td>\n",
       "      <td>2020-07-04 21:35:30</td>\n",
       "      <td>13.163716</td>\n",
       "      <td>77.562842</td>\n",
       "      <td>22</td>\n",
       "    </tr>\n",
       "    <tr>\n",
       "      <th>4</th>\n",
       "      <td>Ivan</td>\n",
       "      <td>2020-07-04 22:35:30</td>\n",
       "      <td>13.232095</td>\n",
       "      <td>77.580273</td>\n",
       "      <td>23</td>\n",
       "    </tr>\n",
       "    <tr>\n",
       "      <th>5</th>\n",
       "      <td>Erin</td>\n",
       "      <td>2020-07-04 14:35:30</td>\n",
       "      <td>13.132235</td>\n",
       "      <td>77.694382</td>\n",
       "      <td>15</td>\n",
       "    </tr>\n",
       "    <tr>\n",
       "      <th>6</th>\n",
       "      <td>Bob</td>\n",
       "      <td>2020-07-04 13:35:30</td>\n",
       "      <td>13.224501</td>\n",
       "      <td>77.668313</td>\n",
       "      <td>14</td>\n",
       "    </tr>\n",
       "    <tr>\n",
       "      <th>7</th>\n",
       "      <td>Grace</td>\n",
       "      <td>2020-07-04 14:35:30</td>\n",
       "      <td>13.142778</td>\n",
       "      <td>77.691560</td>\n",
       "      <td>15</td>\n",
       "    </tr>\n",
       "    <tr>\n",
       "      <th>8</th>\n",
       "      <td>Alice</td>\n",
       "      <td>2020-07-04 22:35:30</td>\n",
       "      <td>13.090368</td>\n",
       "      <td>77.561579</td>\n",
       "      <td>23</td>\n",
       "    </tr>\n",
       "    <tr>\n",
       "      <th>9</th>\n",
       "      <td>Frank</td>\n",
       "      <td>2020-07-04 12:35:30</td>\n",
       "      <td>13.208293</td>\n",
       "      <td>77.664607</td>\n",
       "      <td>13</td>\n",
       "    </tr>\n",
       "  </tbody>\n",
       "</table>\n",
       "</div>"
      ],
      "text/plain": [
       "      id           timestamp   latitude  longitude  hour\n",
       "0  David 2020-07-04 15:35:30  13.148953  77.593651    16\n",
       "1  David 2020-07-04 16:35:30  13.222397  77.652828    17\n",
       "2  Frank 2020-07-04 14:35:30  13.236507  77.693792    15\n",
       "3  Carol 2020-07-04 21:35:30  13.163716  77.562842    22\n",
       "4   Ivan 2020-07-04 22:35:30  13.232095  77.580273    23\n",
       "5   Erin 2020-07-04 14:35:30  13.132235  77.694382    15\n",
       "6    Bob 2020-07-04 13:35:30  13.224501  77.668313    14\n",
       "7  Grace 2020-07-04 14:35:30  13.142778  77.691560    15\n",
       "8  Alice 2020-07-04 22:35:30  13.090368  77.561579    23\n",
       "9  Frank 2020-07-04 12:35:30  13.208293  77.664607    13"
      ]
     },
     "execution_count": 90,
     "metadata": {},
     "output_type": "execute_result"
    }
   ],
   "source": [
    "# Converting column to datetime\n",
    "df['timestamp']=pd.to_datetime(df['timestamp'],format='%Y-%m-%d %H:%M:%S')#already the date column is in date format only\n",
    "# Creating hour column\n",
    "df['hour']=df['timestamp'].apply(lambda x: x.hour+1)\n",
    "df.head(10)"
   ]
  },
  {
   "cell_type": "code",
   "execution_count": null,
   "metadata": {
    "scrolled": false
   },
   "outputs": [],
   "source": []
  },
  {
   "cell_type": "code",
   "execution_count": 91,
   "metadata": {},
   "outputs": [],
   "source": [
    "epsilon = 0.0018288 # a radial distance of 6 feet in kilometers\n",
    "model = DBSCAN(eps = epsilon, min_samples = 2, metric = 'haversine').fit(df[['latitude', 'longitude']])\n",
    "df['cluster'] = model.labels_.tolist()"
   ]
  },
  {
   "cell_type": "code",
   "execution_count": 93,
   "metadata": {
    "scrolled": true
   },
   "outputs": [
    {
     "name": "stderr",
     "output_type": "stream",
     "text": [
      "C:\\Users\\USER\\anaconda\\lib\\site-packages\\seaborn\\_decorators.py:36: FutureWarning: Pass the following variables as keyword args: x, y. From version 0.12, the only valid positional argument will be `data`, and passing other arguments without an explicit keyword will result in an error or misinterpretation.\n",
      "  warnings.warn(\n"
     ]
    },
    {
     "data": {
      "text/plain": [
       "<matplotlib.legend.Legend at 0x21485ff7550>"
      ]
     },
     "execution_count": 93,
     "metadata": {},
     "output_type": "execute_result"
    },
    {
     "data": {
      "image/png": "[encoded data removed]",
      "text/plain": [
       "<Figure size 864x720 with 1 Axes>"
      ]
     },
     "metadata": {
      "needs_background": "light"
     },
     "output_type": "display_data"
    }
   ],
   "source": [
    "labels = model.labels_\n",
    "fig = plt.figure(figsize=(12,10))\n",
    "sns.scatterplot(df['latitude'], df['longitude'], hue = ['cluster-{}'.format(x) for x in labels])\n",
    "plt.legend(bbox_to_anchor = [1, 1])"
   ]
  },
  {
   "cell_type": "code",
   "execution_count": 94,
   "metadata": {
    "scrolled": true
   },
   "outputs": [
    {
     "name": "stderr",
     "output_type": "stream",
     "text": [
      "C:\\Users\\USER\\anaconda\\lib\\site-packages\\seaborn\\_decorators.py:36: FutureWarning: Pass the following variables as keyword args: x, y. From version 0.12, the only valid positional argument will be `data`, and passing other arguments without an explicit keyword will result in an error or misinterpretation.\n",
      "  warnings.warn(\n"
     ]
    },
    {
     "data": {
      "text/plain": [
       "<matplotlib.legend.Legend at 0x21486066190>"
      ]
     },
     "execution_count": 94,
     "metadata": {},
     "output_type": "execute_result"
    },
    {
     "data": {
      "image/png": "[encoded data removed]",
      "text/plain": [
       "<Figure size 864x720 with 1 Axes>"
      ]
     },
     "metadata": {
      "needs_background": "light"
     },
     "output_type": "display_data"
    }
   ],
   "source": [
    "ids = df[(df['cluster'] == -1)].index\n",
    "df.drop(ids, inplace = True)\n",
    "labels = model.labels_\n",
    "fig = plt.figure(figsize=(12,10))\n",
    "sns.scatterplot(df['latitude'], df['longitude'], hue = ['cluster-{}'.format(x) for x in df['cluster']])\n",
    "plt.legend(bbox_to_anchor = [1, 1])"
   ]
  },
  {
   "cell_type": "code",
   "execution_count": 95,
   "metadata": {},
   "outputs": [],
   "source": [
    "def get_infected_names(input_name):\n",
    "    df = pd.read_json('C:/Users/USER/Downloads/livedata.json')\n",
    "    epsilon = 5.721 # a radial distance of 6 feet in kilometers\n",
    "    model = DBSCAN(eps=epsilon, min_samples=2, metric='haversine').fit(df[['latitude', 'longitude']])\n",
    "    df['cluster'] = model.labels_.tolist()\n",
    "\n",
    "    input_name_clusters = []\n",
    "    for i in range(len(df)):\n",
    "        if df['id'][i] == input_name:\n",
    "            if df['cluster'][i] in input_name_clusters:\n",
    "                pass\n",
    "            else:\n",
    "                input_name_clusters.append(df['cluster'][i])\n",
    "    \n",
    "    infected_names = []\n",
    "    for cluster in input_name_clusters:\n",
    "        if cluster != -1:\n",
    "            ids_in_cluster = df.loc[df['cluster'] == cluster, 'id']\n",
    "            for i in range(len(ids_in_cluster)):\n",
    "                member_id = ids_in_cluster.iloc[i]\n",
    "                if (member_id not in infected_names) and (member_id != input_name):\n",
    "                    infected_names.append(member_id)\n",
    "                else:\n",
    "                    pass\n",
    "    return infected_names"
   ]
  },
  {
   "cell_type": "code",
   "execution_count": 98,
   "metadata": {
    "scrolled": true
   },
   "outputs": [
    {
     "data": {
      "text/plain": [
       "['David', 'Frank', 'Carol', 'Ivan', 'Bob', 'Grace', 'Alice', 'Judy', 'Heidi']"
      ]
     },
     "execution_count": 98,
     "metadata": {},
     "output_type": "execute_result"
    }
   ],
   "source": [
    "get_infected_names('Erin')"
   ]
  },
  {
   "cell_type": "code",
   "execution_count": 99,
   "metadata": {},
   "outputs": [
    {
     "data": {
      "text/plain": [
       "['Frank', 'Carol', 'Ivan', 'Erin', 'Bob', 'Grace', 'Alice', 'Judy', 'Heidi']"
      ]
     },
     "execution_count": 99,
     "metadata": {},
     "output_type": "execute_result"
    }
   ],
   "source": [
    "get_infected_names('David')"
   ]
  },
  {
   "cell_type": "code",
   "execution_count": 100,
   "metadata": {},
   "outputs": [
    {
     "data": {
      "text/plain": [
       "['David', 'Frank', 'Carol', 'Ivan', 'Erin', 'Bob', 'Alice', 'Judy', 'Heidi']"
      ]
     },
     "execution_count": 100,
     "metadata": {},
     "output_type": "execute_result"
    }
   ],
   "source": [
    "get_infected_names('Grace')"
   ]
  },
  {
   "cell_type": "code",
   "execution_count": 63,
   "metadata": {
    "execution": {
     "iopub.execute_input": "2021-03-02T05:12:24.723380Z",
     "iopub.status.busy": "2021-03-02T05:12:24.722728Z",
     "iopub.status.idle": "2021-03-02T05:12:24.743991Z",
     "shell.execute_reply": "2021-03-02T05:12:24.743384Z"
    },
    "papermill": {
     "duration": 0.050772,
     "end_time": "2021-03-02T05:12:24.744143",
     "exception": false,
     "start_time": "2021-03-02T05:12:24.693371",
     "status": "completed"
    },
    "tags": []
   },
   "outputs": [],
   "source": [
    "# df2=pd.DataFrame(df.groupby(['hour','id'])['timestamp'].max())\n",
    "# #df2.reset_index(inplace=True) why da?\n",
    "# df2.head() # data manim codes ok d not exe"
   ]
  },
  {
   "cell_type": "code",
   "execution_count": 62,
   "metadata": {
    "execution": {
     "iopub.execute_input": "2021-03-02T05:12:24.821045Z",
     "iopub.status.busy": "2021-03-02T05:12:24.820365Z",
     "iopub.status.idle": "2021-03-02T05:12:24.825380Z",
     "shell.execute_reply": "2021-03-02T05:12:24.824471Z"
    },
    "papermill": {
     "duration": 0.05398,
     "end_time": "2021-03-02T05:12:24.825549",
     "exception": false,
     "start_time": "2021-03-02T05:12:24.771569",
     "status": "completed"
    },
    "tags": []
   },
   "outputs": [],
   "source": [
    "# df3=pd.merge(df2,df,left_on=['hour','id','timestamp'],right_on=['hour','id','timestamp'])\n",
    "# df3.head() # data manim codes ok  d not exe"
   ]
  },
  {
   "cell_type": "code",
   "execution_count": 14,
   "metadata": {
    "execution": {
     "iopub.execute_input": "2021-03-02T05:12:24.885375Z",
     "iopub.status.busy": "2021-03-02T05:12:24.884660Z",
     "iopub.status.idle": "2021-03-02T05:12:24.922890Z",
     "shell.execute_reply": "2021-03-02T05:12:24.922295Z"
    },
    "papermill": {
     "duration": 0.069363,
     "end_time": "2021-03-02T05:12:24.923049",
     "exception": false,
     "start_time": "2021-03-02T05:12:24.853686",
     "status": "completed"
    },
    "tags": []
   },
   "outputs": [],
   "source": [
    "# lat_long_list = []\n",
    "# for i in range(1,25):\n",
    "#     temp=[]\n",
    "#     for index, instance in df3[df3['hour'] == i].iterrows():\n",
    "#         temp.append([instance['latitude'],instance['longitude']])\n",
    "#     lat_long_list.append(temp)"
   ]
  },
  {
   "cell_type": "code",
   "execution_count": 53,
   "metadata": {},
   "outputs": [],
   "source": [
    "from branca.element import Element, Figure, Html, MacroElement\n"
   ]
  },
  {
   "cell_type": "code",
   "execution_count": 54,
   "metadata": {
    "execution": {
     "iopub.execute_input": "2021-03-02T05:12:24.985236Z",
     "iopub.status.busy": "2021-03-02T05:12:24.984453Z",
     "iopub.status.idle": "2021-03-02T05:12:25.147579Z",
     "shell.execute_reply": "2021-03-02T05:12:25.148280Z"
    },
    "papermill": {
     "duration": 0.19735,
     "end_time": "2021-03-02T05:12:25.148463",
     "exception": false,
     "start_time": "2021-03-02T05:12:24.951113",
     "status": "completed"
    },
    "tags": []
   },
   "outputs": [],
   "source": [
    "\n",
    "fig=Figure(width=550,height=350)"
   ]
  },
  {
   "cell_type": "code",
   "execution_count": 13,
   "metadata": {
    "execution": {
     "iopub.execute_input": "2021-03-02T05:12:25.222854Z",
     "iopub.status.busy": "2021-03-02T05:12:25.222039Z",
     "iopub.status.idle": "2021-03-02T05:12:34.346658Z",
     "shell.execute_reply": "2021-03-02T05:12:34.345768Z"
    },
    "papermill": {
     "duration": 9.168644,
     "end_time": "2021-03-02T05:12:34.346855",
     "exception": false,
     "start_time": "2021-03-02T05:12:25.178211",
     "status": "completed"
    },
    "tags": []
   },
   "outputs": [
    {
     "name": "stdout",
     "output_type": "stream",
     "text": [
      "Requirement already satisfied: folium in c:\\users\\user\\anaconda\\lib\\site-packages (0.14.0)\n",
      "Requirement already satisfied: numpy in c:\\users\\user\\anaconda\\lib\\site-packages (from folium) (1.23.0)\n",
      "Requirement already satisfied: jinja2>=2.9 in c:\\users\\user\\anaconda\\lib\\site-packages (from folium) (2.11.2)\n",
      "Requirement already satisfied: branca>=0.6.0 in c:\\users\\user\\anaconda\\lib\\site-packages (from folium) (0.6.0)\n",
      "Requirement already satisfied: requests in c:\\users\\user\\anaconda\\lib\\site-packages (from folium) (2.28.2)\n",
      "Requirement already satisfied: MarkupSafe>=0.23 in c:\\users\\user\\anaconda\\lib\\site-packages (from jinja2>=2.9->folium) (1.1.1)\n",
      "Requirement already satisfied: certifi>=2017.4.17 in c:\\users\\user\\anaconda\\lib\\site-packages (from requests->folium) (2020.6.20)\n",
      "Requirement already satisfied: charset-normalizer<4,>=2 in c:\\users\\user\\anaconda\\lib\\site-packages (from requests->folium) (3.0.1)\n",
      "Requirement already satisfied: idna<4,>=2.5 in c:\\users\\user\\anaconda\\lib\\site-packages (from requests->folium) (2.10)\n",
      "Requirement already satisfied: urllib3<1.27,>=1.21.1 in c:\\users\\user\\anaconda\\lib\\site-packages (from requests->folium) (1.25.11)\n"
     ]
    }
   ],
   "source": [
    "!pip install folium\n"
   ]
  },
  {
   "cell_type": "code",
   "execution_count": 59,
   "metadata": {
    "execution": {
     "iopub.execute_input": "2021-03-02T05:12:34.412503Z",
     "iopub.status.busy": "2021-03-02T05:12:34.411729Z",
     "iopub.status.idle": "2021-03-02T05:12:34.762587Z",
     "shell.execute_reply": "2021-03-02T05:12:34.763734Z"
    },
    "papermill": {
     "duration": 0.387754,
     "end_time": "2021-03-02T05:12:34.763960",
     "exception": false,
     "start_time": "2021-03-02T05:12:34.376206",
     "status": "completed"
    },
    "tags": []
   },
   "outputs": [],
   "source": [
    "# import folium\n",
    "# from folium.plugins import HeatMapWithTime\n",
    "# fig7=Figure(width=850,height=550)\n",
    "# m7=folium.Map(location=[13.12, 77.8],zoom_start=10)\n",
    "# HeatMapWithTime(lat_long_list,radius=15,auto_play=True,position='bottomright').add_to(m7)\n",
    "# m7"
   ]
  },
  {
   "cell_type": "code",
   "execution_count": null,
   "metadata": {},
   "outputs": [],
   "source": [
    "#the function identifies the individuals in the same clusters as the input name (excluding the input name itself) \n",
    "#and adds their names to a list called \"infected_names\". "
   ]
  },
  {
   "cell_type": "code",
   "execution_count": 6,
   "metadata": {},
   "outputs": [],
   "source": [
    "\n",
    "# epsilon = 0.0018288 # a radi"
   ]
  },
  {
   "cell_type": "code",
   "execution_count": null,
   "metadata": {
    "scrolled": true
   },
   "outputs": [],
   "source": []
  },
  {
   "cell_type": "code",
   "execution_count": 57,
   "metadata": {
    "scrolled": true
   },
   "outputs": [],
   "source": [
    "\n",
    "#I changed epsilion value from some value to 5.721\n",
    "#i changed min samples value to 3,100"
   ]
  },
  {
   "cell_type": "code",
   "execution_count": null,
   "metadata": {},
   "outputs": [],
   "source": [
    "#"
   ]
  },
  {
   "cell_type": "code",
   "execution_count": null,
   "metadata": {},
   "outputs": [],
   "source": []
  },
  {
   "cell_type": "code",
   "execution_count": null,
   "metadata": {},
   "outputs": [],
   "source": []
  },
  {
   "cell_type": "code",
   "execution_count": 1,
   "metadata": {},
   "outputs": [
    {
     "name": "stdout",
     "output_type": "stream",
     "text": [
      "[1, 9, 25, 49, 81]\n"
     ]
    }
   ],
   "source": [
    "a=4\n",
    "b=5\n",
    "#\n",
    "#iterate from 1 to 10.\n",
    "l1=[]\n",
    "for i in range(1,11):\n",
    "    if i%2==0:\n",
    "        pass\n",
    "    else:\n",
    "        l1.append(i**2)\n",
    "print(l1)\n",
    "#pass works as an if loop stmt.ctrl moves to next iteration .either if or else gets executed."
   ]
  },
  {
   "cell_type": "code",
   "execution_count": 56,
   "metadata": {},
   "outputs": [],
   "source": [
    "   "
   ]
  },
  {
   "cell_type": "code",
   "execution_count": null,
   "metadata": {
    "scrolled": true
   },
   "outputs": [],
   "source": []
  },
  {
   "cell_type": "code",
   "execution_count": null,
   "metadata": {},
   "outputs": [],
   "source": [
    "#we can cluster the dp of lat and long columns using DBSCAn algorithm.no need to calculate the distance.\n"
   ]
  },
  {
   "cell_type": "code",
   "execution_count": null,
   "metadata": {},
   "outputs": [],
   "source": [
    "\n",
    "\n"
   ]
  },
  {
   "cell_type": "code",
   "execution_count": null,
   "metadata": {},
   "outputs": [],
   "source": [
    "#Clustering analysis or simply Clustering is basically an Unsupervised learning method\n",
    "that divides the data points into a number of specific batches or groups, such that the data points \n",
    "in the same groups have similar properties and data points in different groups have different properties "
   ]
  },
  {
   "cell_type": "code",
   "execution_count": null,
   "metadata": {},
   "outputs": [],
   "source": [
    "#DBSCAN (distance between nearest points)"
   ]
  },
  {
   "cell_type": "code",
   "execution_count": null,
   "metadata": {},
   "outputs": [],
   "source": []
  }
 ],
 "metadata": {
  "kernelspec": {
   "display_name": "Python 3",
   "language": "python",
   "name": "python3"
  },
  "language_info": {
   "codemirror_mode": {
    "name": "ipython",
    "version": 3
   },
   "file_extension": ".py",
   "mimetype": "text/x-python",
   "name": "python",
   "nbconvert_exporter": "python",
   "pygments_lexer": "ipython3",
   "version": "3.8.5"
  },
  "papermill": {
   "default_parameters": {},
   "duration": 20.225756,
   "end_time": "2021-03-02T05:12:35.503373",
   "environment_variables": {},
   "exception": null,
   "input_path": "__notebook__.ipynb",
   "output_path": "__notebook__.ipynb",
   "parameters": {},
   "start_time": "2021-03-02T05:12:15.277617",
   "version": "2.2.2"
  }
 },
 "nbformat": 4,
 "nbformat_minor": 4
}
